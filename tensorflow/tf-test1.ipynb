{
 "cells": [
  {
   "cell_type": "code",
   "execution_count": 1,
   "metadata": {},
   "outputs": [],
   "source": [
    "import tensorflow as tf"
   ]
  },
  {
   "cell_type": "markdown",
   "metadata": {},
   "source": [
    "### basic examples on tensorflow to show its behaviour\n",
    "(examples associated to tutorial from 'https://nicolasbortolotti.gitbooks.io/tensorflow-documentacion/content/')"
   ]
  },
  {
   "cell_type": "code",
   "execution_count": 7,
   "metadata": {},
   "outputs": [
    {
     "name": "stdout",
     "output_type": "stream",
     "text": [
      "[ 2  6 12]\n"
     ]
    }
   ],
   "source": [
    "########################\n",
    "### BASIC FIRST TEST\n",
    "########################\n",
    "\n",
    "x1 = tf.constant([2, 3, 4])\n",
    "x2 = tf.constant([1, 2, 3])\n",
    "result = tf.multiply(x1, x2)\n",
    "\n",
    "with tf.Session() as sess:\n",
    "    \n",
    "    ### ...we can include the two next lines for tensorboard...\n",
    "    merged = tf.summary.merge_all () \n",
    "    writer = tf.summary.FileWriter (\"logs\", sess.graph)\n",
    "    \n",
    "    out = sess.run(result)\n",
    "    print(out)"
   ]
  },
  {
   "cell_type": "code",
   "execution_count": 8,
   "metadata": {},
   "outputs": [
    {
     "name": "stdout",
     "output_type": "stream",
     "text": [
      "Tensor(\"Const_12:0\", shape=(1, 2), dtype=float32)\n",
      "Tensor(\"Const_13:0\", shape=(2, 1), dtype=float32)\n",
      "Tensor(\"MatMul_2:0\", shape=(1, 1), dtype=float32)\n",
      "Tensor(\"Placeholder_2:0\", shape=(1, 1), dtype=float32)\n",
      "iter:  0    result:  [[12.]]   placeholder:  Tensor(\"Reshape_6:0\", shape=(1, 1), dtype=float32)    Tensor(\"Add_6:0\", shape=(1, 1), dtype=float32)\n",
      "iter:  1    result:  [[12.]]   placeholder:  Tensor(\"Reshape_7:0\", shape=(1, 1), dtype=float32)    Tensor(\"Add_7:0\", shape=(1, 1), dtype=float32)\n",
      "iter:  2    result:  [[12.]]   placeholder:  Tensor(\"Reshape_8:0\", shape=(1, 1), dtype=float32)    Tensor(\"Add_8:0\", shape=(1, 1), dtype=float32)\n"
     ]
    }
   ],
   "source": [
    "###############################\n",
    "# EXAMPLE 1: multiplying matrixes\n",
    "###############################\n",
    "\n",
    "# ...we define two matrixes...\n",
    "matrix1 = tf.constant([[3., 3.]])\n",
    "print(matrix1)\n",
    "matrix2 = tf.constant([[2.],[2.]])\n",
    "print(matrix2)\n",
    "product = tf.matmul(matrix1, matrix2)\n",
    "print(product)\n",
    "\n",
    "value_to_add = tf.placeholder(tf.float32, shape=(1, 1))\n",
    "print(value_to_add)\n",
    "\n",
    "#result2 = tf.add(result, value_to_add)\n",
    "\n",
    "# ...we launch the computing-graph...\n",
    "sess = tf.Session()\n",
    "#merged = tf.summary.merge_all () \n",
    "#writer = tf.summary.FileWriter (\"logs\", sess.graph)\n",
    "\n",
    "for i in range(3):\n",
    "    result = sess.run(product)\n",
    "    \n",
    "    value_to_add = tf.reshape(tf.cast(i, tf.float32), shape=(1, 1) )\n",
    "    \n",
    "    result2 = tf.add(result, value_to_add)\n",
    "    print('iter: ', i, '  ', 'result: ', result, '  placeholder: ', value_to_add, '  ', result2)\n",
    "sess.close()"
   ]
  },
  {
   "cell_type": "code",
   "execution_count": 16,
   "metadata": {},
   "outputs": [
    {
     "name": "stdout",
     "output_type": "stream",
     "text": [
      "initial state:  0\n",
      "1\n",
      "2\n",
      "3\n"
     ]
    }
   ],
   "source": [
    "#############################\n",
    "# EXAMPLE 2: using variables \n",
    "############################\n",
    "\n",
    "### ...we create a variable equal to zero for initial state...\n",
    "state = tf.Variable(0, name='counter')\n",
    "\n",
    "### ...variable (constant) to add to state...\n",
    "one = tf.constant(1)\n",
    "\n",
    "### ...and we update the state...\n",
    "new_value = tf.add(state, one)\n",
    "update_state = tf.assign(state, new_value)\n",
    "\n",
    "### ...we initialize all variables...\n",
    "init_op = tf.global_variables_initializer()\n",
    "\n",
    "\n",
    "### ...we launch the graph...\n",
    "with tf.Session() as sess:\n",
    "    sess.run(init_op)\n",
    "    \n",
    "    print('initial state: ', sess.run(state))\n",
    "    \n",
    "    for i in range(3):\n",
    "        sess.run(update_state)\n",
    "        print(sess.run(state))\n",
    "    "
   ]
  },
  {
   "cell_type": "code",
   "execution_count": 24,
   "metadata": {},
   "outputs": [
    {
     "name": "stdout",
     "output_type": "stream",
     "text": [
      "[14.]\n"
     ]
    }
   ],
   "source": [
    "##############################\n",
    "# EXAMPLE 3: using placeholders\n",
    "##############################\n",
    "input1 = tf.placeholder(tf.float32)\n",
    "input2 = tf.placeholder(tf.float32)\n",
    "output = tf.multiply(input1, input2)\n",
    "\n",
    "\n",
    "sess = tf.Session()\n",
    "\n",
    "out = sess.run(output, feed_dict={input1:[7.], input2:[2.]})\n",
    "print(out)\n",
    "\n",
    "sess.close()"
   ]
  },
  {
   "cell_type": "code",
   "execution_count": 37,
   "metadata": {},
   "outputs": [
    {
     "name": "stdout",
     "output_type": "stream",
     "text": [
      "Tensor(\"Const_37:0\", shape=(1, 2), dtype=float32)\n",
      "Tensor(\"Const_38:0\", shape=(2, 1), dtype=float32)\n",
      "Tensor(\"MatMul_13:0\", shape=(1, 1), dtype=float32)\n",
      "Tensor(\"Placeholder_25:0\", dtype=float32)\n",
      "iter:  0    result:  [[12.]]   placeholder:  Tensor(\"Placeholder_25:0\", dtype=float32)    [[12.]]\n",
      "iter:  1    result:  [[12.]]   placeholder:  Tensor(\"Placeholder_25:0\", dtype=float32)    [[13.]]\n",
      "iter:  2    result:  [[12.]]   placeholder:  Tensor(\"Placeholder_25:0\", dtype=float32)    [[14.]]\n"
     ]
    }
   ],
   "source": [
    "###############################\n",
    "# EXAMPLE 4: multiplying and updating matrixes\n",
    "###############################\n",
    "\n",
    "# ...we define two matrixes...\n",
    "matrix1 = tf.constant([[3., 3.]])\n",
    "print(matrix1)\n",
    "matrix2 = tf.constant([[2.],[2.]])\n",
    "print(matrix2)\n",
    "product = tf.matmul(matrix1, matrix2)\n",
    "print(product)\n",
    "\n",
    "value_to_add = tf.placeholder(tf.float32) #, shape=(1, 1)\n",
    "print(value_to_add)\n",
    "\n",
    "result2 = tf.add(result, value_to_add)\n",
    "\n",
    "# ...we launch the computing-graph...\n",
    "with tf.Session() as sess:\n",
    "    for i in range(3):\n",
    "        result = sess.run(product)\n",
    "        res_adding = sess.run(result2, feed_dict={value_to_add:i})\n",
    "        print('iter: ', i, '  ', 'result: ', result, '  placeholder: ', value_to_add, '  ', res_adding)\n"
   ]
  }
 ],
 "metadata": {
  "kernelspec": {
   "display_name": "Python 3",
   "language": "python",
   "name": "python3"
  },
  "language_info": {
   "codemirror_mode": {
    "name": "ipython",
    "version": 3
   },
   "file_extension": ".py",
   "mimetype": "text/x-python",
   "name": "python",
   "nbconvert_exporter": "python",
   "pygments_lexer": "ipython3",
   "version": "3.6.4"
  }
 },
 "nbformat": 4,
 "nbformat_minor": 2
}
