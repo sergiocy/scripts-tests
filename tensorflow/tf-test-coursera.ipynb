{
 "cells": [
  {
   "cell_type": "code",
   "execution_count": 1,
   "metadata": {},
   "outputs": [],
   "source": [
    "import tensorflow as tf\n",
    "import numpy as np"
   ]
  },
  {
   "cell_type": "code",
   "execution_count": 2,
   "metadata": {},
   "outputs": [],
   "source": [
    "w = tf.Variable(0, dtype=tf.float32)\n",
    "cost = tf.add(w**2, tf.add(tf.multiply(-10., w), 25))\n",
    "train = tf.train.GradientDescentOptimizer(0.01).minimize(cost)\n",
    "\n",
    "init = tf.global_variables_initializer()"
   ]
  },
  {
   "cell_type": "code",
   "execution_count": 5,
   "metadata": {},
   "outputs": [
    {
     "name": "stdout",
     "output_type": "stream",
     "text": [
      "0.0\n",
      "6\n"
     ]
    }
   ],
   "source": [
    "session = tf.Session()\n",
    "\n",
    "session.run(init)\n",
    "print(session.run(w))\n",
    "\n",
    "# ...we can define variables into the session...\n",
    "x = tf.placeholder(tf.int64, name = 'x')\n",
    "print(session.run(2 * x, feed_dict = {x: 3}))\n",
    "\n",
    "session.close()"
   ]
  },
  {
   "cell_type": "code",
   "execution_count": 33,
   "metadata": {},
   "outputs": [
    {
     "name": "stdout",
     "output_type": "stream",
     "text": [
      "iter:  0   w:  0.099999994   cost:  24.01\n",
      "iter:  1   w:  0.19799998   cost:  23.059204\n"
     ]
    }
   ],
   "source": [
    "with tf.Session() as session:\n",
    "\n",
    "    \n",
    "    session.run(init)\n",
    "    \n",
    "\n",
    "    \n",
    "    for i in range(2):\n",
    "        \n",
    "            # ...tensorboard...\n",
    "        merged = tf.summary.merge_all() \n",
    "        writer = tf.summary.FileWriter(\"C:/workspace/jupyter/logs\", session.graph)\n",
    "        session.run(train)\n",
    "        print('iter: ', i, '  w: ', session.run(w), '  cost: ', session.run(cost))"
   ]
  },
  {
   "cell_type": "code",
   "execution_count": 38,
   "metadata": {},
   "outputs": [
    {
     "name": "stdout",
     "output_type": "stream",
     "text": [
      "(3,)\n"
     ]
    }
   ],
   "source": [
    "t = np.array([1.,1.,1.])\n",
    "print(t.shape)"
   ]
  }
 ],
 "metadata": {
  "kernelspec": {
   "display_name": "Python 3",
   "language": "python",
   "name": "python3"
  },
  "language_info": {
   "codemirror_mode": {
    "name": "ipython",
    "version": 3
   },
   "file_extension": ".py",
   "mimetype": "text/x-python",
   "name": "python",
   "nbconvert_exporter": "python",
   "pygments_lexer": "ipython3",
   "version": "3.6.4"
  }
 },
 "nbformat": 4,
 "nbformat_minor": 2
}
