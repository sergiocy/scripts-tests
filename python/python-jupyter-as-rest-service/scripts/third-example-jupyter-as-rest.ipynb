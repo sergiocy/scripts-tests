{
 "cells": [
  {
   "cell_type": "code",
   "execution_count": null,
   "metadata": {},
   "outputs": [],
   "source": [
    "import json\n",
    "import requests\n",
    "\n",
    "##########################\n",
    "# POST-REQUEST EXAMPLE:\n",
    "# ...the header...\n",
    "# {\n",
    "#    \"content-type\":\"application/json\"\n",
    "# }\n",
    "# ...the body...\n",
    "# {\n",
    "#    \"number1\":1\n",
    "#    \"number2\":1\n",
    "#    \"number3\":1\n",
    "# }\n",
    "##########################"
   ]
  },
  {
   "cell_type": "code",
   "execution_count": null,
   "metadata": {},
   "outputs": [],
   "source": [
    "# POST /sum\n",
    "\n",
    "# ...we recover the request...\n",
    "request = json.loads(REQUEST)\n",
    "# ...by default, we get the request in a variable \"body\"...\n",
    "body = request['body']\n",
    "\n",
    "# ...and we recover each number...\n",
    "value1 = body.get('number1')\n",
    "value2 = body.get('number2')\n",
    "value3 = body.get('number3')"
   ]
  },
  {
   "cell_type": "code",
   "execution_count": null,
   "metadata": {},
   "outputs": [],
   "source": [
    "# POST /sum\n",
    "# ...we can implement functionalities. For example the sum of input numbers...\n",
    "res = value1 + value2 + value3"
   ]
  },
  {
   "cell_type": "code",
   "execution_count": null,
   "metadata": {},
   "outputs": [],
   "source": [
    "# POST /sum\n",
    "\n",
    "# ...we build and JSON response and we print it...\n",
    "print(json.dumps({\n",
    "        \"result\" : res       \n",
    "}))"
   ]
  }
 ],
 "metadata": {
  "kernelspec": {
   "display_name": "Python [default]",
   "language": "python",
   "name": "python3"
  },
  "language_info": {
   "codemirror_mode": {
    "name": "ipython",
    "version": 3
   },
   "file_extension": ".py",
   "mimetype": "text/x-python",
   "name": "python",
   "nbconvert_exporter": "python",
   "pygments_lexer": "ipython3",
   "version": "3.5.4"
  }
 },
 "nbformat": 4,
 "nbformat_minor": 2
}
