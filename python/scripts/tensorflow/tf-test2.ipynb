{
 "cells": [
  {
   "cell_type": "code",
   "execution_count": 22,
   "metadata": {},
   "outputs": [],
   "source": [
    "import tensorflow as tf\n",
    "import os\n",
    "import pandas as pd\n",
    "import numpy as np\n",
    "#from skimage import data\n",
    "import skimage.data\n",
    "import skimage.transform\n",
    "import skimage.color\n",
    "import matplotlib.pyplot as plt "
   ]
  },
  {
   "cell_type": "markdown",
   "metadata": {},
   "source": [
    "## tests on tensorflow\n",
    "(examples associated to tutorial 'https://www.datacamp.com/community/tutorials/tensorflow-tutorial')"
   ]
  },
  {
   "cell_type": "markdown",
   "metadata": {},
   "source": [
    "### Develope on image clasification"
   ]
  },
  {
   "cell_type": "markdown",
   "metadata": {},
   "source": [
    "#### 1.- we can recover and visualize data"
   ]
  },
  {
   "cell_type": "code",
   "execution_count": 13,
   "metadata": {},
   "outputs": [],
   "source": [
    "### ...a function to load files with the characteristics of the images...\n",
    "### ...FINALLY IT IS NOT USED, BUT WE LEAVE HERE AS EXAMPLE\n",
    "\n",
    "def load_img_features(dir, root_file_name, ext_file_name):\n",
    "    ### ...we list subfolders on input path...\n",
    "    ### ...and we go through that list...\n",
    "    for subfolder in os.listdir(dir):\n",
    "        \n",
    "        if os.path.isdir(dir + '/' + subfolder):\n",
    "            ### ...we get the file content...\n",
    "            subfolder_data_images = dir + '/' + subfolder + '/' + root_file_name + subfolder + ext_file_name\n",
    "            data_images_in_subfolder = pd.read_csv(subfolder_data_images, sep = ';')\n",
    "            \n",
    "            ### ...and we create a dataframe to append all file content...\n",
    "            if subfolder == '00000':\n",
    "                data_images = data_images_in_subfolder\n",
    "            else:\n",
    "                data_images = data_images.append(data_images_in_subfolder, ignore_index=True)\n",
    "    \n",
    "    return data_images"
   ]
  },
  {
   "cell_type": "code",
   "execution_count": 14,
   "metadata": {},
   "outputs": [],
   "source": [
    "### ...a function to load the images...\n",
    "\n",
    "def load_img_data(dir):\n",
    "    img_data = []\n",
    "    img_name_file = []\n",
    "    img_label = []\n",
    "    \n",
    "    ### ...in this loop, we go through de folders...\n",
    "    for subfolder in os.listdir(dir):\n",
    "        if os.path.isdir(dir + '/' + subfolder):\n",
    "            \n",
    "            ### ...in this loop we get the images of each folder...\n",
    "            \n",
    "            for file in os.listdir(dir + '/' + subfolder):\n",
    "                if file.endswith(\".ppm\"):\n",
    "                    img_name_file.append(file)\n",
    "                    img_label.append(subfolder)\n",
    "                    img_data.append(skimage.data.imread(dir + '/' + subfolder + '/' + file))\n",
    "    \n",
    "    ### ...optional, we can load images on pandas-dataframe...\n",
    "    #data_images = pd.DataFrame({'Filename':img_name_file, 'data':img_data})\n",
    "    #return data_images, img_name_file, img_data\n",
    "    \n",
    "    return img_name_file, img_label, img_data"
   ]
  },
  {
   "cell_type": "code",
   "execution_count": 15,
   "metadata": {},
   "outputs": [
    {
     "data": {
      "image/png": "[encoded data removed]",
      "text/plain": [
       "<Figure size 432x288 with 1 Axes>"
      ]
     },
     "metadata": {},
     "output_type": "display_data"
    }
   ],
   "source": [
    "############################################\n",
    "### ...cell to load images (using functions above)...\n",
    "############################################\n",
    "\n",
    "### ...we load the training data...\n",
    "### ...WE WILL NOT USE THAT FUNCTION\n",
    "#features_imgs = load_img_features('data-signal/Training', 'GT-', '.csv')\n",
    "\n",
    "\n",
    "#data_imgs, img_name, img_data = load_img_data('data-signal/Training')\n",
    "img_name, img_class, img_data = load_img_data('data-signal/Training')\n",
    "#print(img_data[0])\n",
    "\n",
    "\n",
    "### ...we make a histogram with 62 bins of the `labels` data\n",
    "### ...in this way we can appreciate thethe number of signal of each class... \n",
    "plt.hist(np.asarray(img_class), 62)\n",
    "plt.show()\n",
    "\n"
   ]
  },
  {
   "cell_type": "markdown",
   "metadata": {},
   "source": [
    "#### We can observe several things in our dataset:\n",
    "- Desbalanced set\n",
    "- Images with different size (it imply different size of input variables in the net)\n",
    "- The images are in RGB scale. To simplify the problem (without loss in clasification accuracy), we will convert the images to gray-scale"
   ]
  },
  {
   "cell_type": "code",
   "execution_count": 58,
   "metadata": {},
   "outputs": [
    {
     "name": "stderr",
     "output_type": "stream",
     "text": [
      "C:\\Anaconda3\\envs\\tensorflow\\lib\\site-packages\\skimage\\transform\\_warps.py:84: UserWarning: The default mode, 'constant', will be changed to 'reflect' in skimage 0.15.\n",
      "  warn(\"The default mode, 'constant', will be changed to 'reflect' in \"\n"
     ]
    }
   ],
   "source": [
    "############################################\n",
    "### ...we pre-process the images to solve some problems...\n",
    "############################################\n",
    "images28 = [skimage.transform.resize(img, (28, 28)) for img in img_data]\n",
    "images28 = np.asarray(images28)\n"
   ]
  },
  {
   "cell_type": "code",
   "execution_count": 59,
   "metadata": {},
   "outputs": [
    {
     "name": "stdout",
     "output_type": "stream",
     "text": [
      "(4575, 28, 28)\n",
      "[[0.74229485 0.42599509 0.40878256 0.4202495  0.41755521 0.48030214\n",
      "  0.44963976 0.44602086 0.47556737 0.49706019 0.50588577 0.64844137\n",
      "  0.77811458 0.70713649 0.48676711 0.26363427 0.16729424 0.32515452\n",
      "  0.24029734 0.28989687 0.34697073 0.31421003 0.22842276 0.23414764\n",
      "  0.22509232 0.23291985 0.20067085 0.19750793]\n",
      " [0.60493667 0.29537234 0.29832879 0.29311906 0.31078613 0.2729798\n",
      "  0.30964014 0.30606758 0.2903363  0.29848809 0.36972654 0.39749475\n",
      "  0.45374504 0.45488612 0.37049333 0.18979712 0.12247736 0.34897782\n",
      "  0.22131355 0.34215979 0.32304122 0.28913361 0.25752215 0.21609345\n",
      "  0.19518954 0.21736126 0.21597678 0.22483184]\n",
      " [0.58464503 0.42008009 0.39497093 0.39232147 0.42208728 0.38122218\n",
      "  0.44129249 0.44515486 0.40337708 0.44775028 0.60542391 0.77113115\n",
      "  0.72724508 0.19550694 0.49441295 0.24845426 0.12977143 0.31427059\n",
      "  0.25795989 0.31375262 0.30737058 0.29483936 0.25911204 0.22177856\n",
      "  0.20446624 0.19452281 0.20801678 0.21786738]\n",
      " [0.60672073 0.43391981 0.42924933 0.42211741 0.41653246 0.44576617\n",
      "  0.44552302 0.45574216 0.43275308 0.46877908 0.30028647 0.99409255\n",
      "  0.24512888 0.22857085 0.2443308  0.62282065 0.13028772 0.30484962\n",
      "  0.30282495 0.31870272 0.32995235 0.30528964 0.24175278 0.23278598\n",
      "  0.19060877 0.20612174 0.18203892 0.17976017]\n",
      " [0.84803282 0.96240042 0.97618189 0.97917843 0.93051811 0.97262378\n",
      "  0.9789215  0.97319131 0.96619382 0.96432181 0.96956831 0.51964323\n",
      "  0.2319196  0.22650853 0.2266363  0.31013086 0.41954591 0.31281585\n",
      "  0.28128509 0.33153191 0.44875063 0.91302638 0.23869915 0.21154652\n",
      "  0.1654114  0.2141946  0.23421759 0.23816482]\n",
      " [0.91208666 0.98846049 0.98448976 0.99678859 0.95115968 0.99276443\n",
      "  0.98932088 0.99663641 0.99025865 0.99009726 0.98947346 0.21747611\n",
      "  0.21544013 0.22670168 0.2302368  0.22108121 0.55614241 0.33478437\n",
      "  0.29005827 0.32603034 0.51945272 0.99002307 0.20413464 0.19164093\n",
      "  0.18813048 0.19921146 0.2198489  0.22684364]\n",
      " [0.93591791 0.91431633 0.0917204  0.96797371 0.96130342 0.98644408\n",
      "  0.15965873 0.82431183 0.98969799 0.99890845 0.61078574 0.2533311\n",
      "  0.22938441 0.97802971 0.24422093 0.21774682 0.2293043  0.62273197\n",
      "  0.36423885 0.33432856 0.61942463 0.99082298 0.21725879 0.21360626\n",
      "  0.20476702 0.1916869  0.19452758 0.20124548]\n",
      " [0.92844403 0.82597536 0.11510964 0.97394161 0.94567295 0.97785432\n",
      "  0.1215437  0.84996341 0.9669447  0.9964682  0.2314148  0.24660141\n",
      "  0.34807329 0.99257442 0.78242644 0.21863652 0.22433852 0.43050169\n",
      "  0.36070962 0.32458676 0.66021532 0.88092438 0.24099777 0.22291211\n",
      "  0.2132169  0.21677729 0.24510971 0.23398195]\n",
      " [0.3718845  0.35787756 0.32273009 0.32921642 0.36572808 0.33568352\n",
      "  0.32460295 0.34916701 0.65279135 0.66543435 0.24452166 0.22968699\n",
      "  0.96413624 0.99124613 0.99600865 0.28021478 0.23674226 0.21610049\n",
      "  0.65100799 0.26643859 0.47381245 0.42723073 0.19012033 0.21249128\n",
      "  0.21839094 0.26775243 0.24696859 0.19898792]\n",
      " [0.31138731 0.30893559 0.32351449 0.35890827 0.32894764 0.35811344\n",
      "  0.37673422 0.36643933 0.98089636 0.24177717 0.25126581 0.31836445\n",
      "  0.9910451  0.9924145  0.9941821  0.91063392 0.22660608 0.23067155\n",
      "  0.29221495 0.47768644 0.27359958 0.25792635 0.20578751 0.23358084\n",
      "  0.22221342 0.22830762 0.23794825 0.23749861]\n",
      " [0.27437223 0.31572457 0.32844415 0.36204124 0.35139513 0.32586846\n",
      "  0.36505618 0.60694181 0.79377909 0.24754943 0.24132104 0.92833094\n",
      "  0.99789467 0.99787873 0.99653975 0.99546835 0.52033924 0.23486701\n",
      "  0.22493582 0.55794824 0.28982724 0.28060808 0.22424247 0.24885269\n",
      "  0.22800631 0.21165432 0.18327744 0.16382244]\n",
      " [0.17058215 0.16581085 0.19587882 0.19495758 0.23298726 0.24479466\n",
      "  0.26496016 0.93637229 0.24563812 0.24471887 0.32471138 0.99009364\n",
      "  0.99511463 0.99404265 0.99657144 0.99406256 0.98288412 0.23858288\n",
      "  0.23106981 0.25097266 0.58687699 0.30317664 0.23512559 0.16636946\n",
      "  0.211513   0.17502651 0.17375394 0.19620935]\n",
      " [0.14957252 0.12874107 0.16857815 0.14509109 0.14525829 0.13555819\n",
      "  0.30589763 0.76031802 0.239547   0.24556802 0.94345434 0.99264775\n",
      "  0.98784214 0.99793792 0.9991369  0.99347206 0.99670274 0.71307032\n",
      "  0.24395499 0.23560404 0.44395354 0.30254885 0.21868833 0.20213261\n",
      "  0.22030721 0.20550847 0.2053294  0.20560255]\n",
      " [0.10589108 0.11660183 0.14278779 0.11503575 0.108842   0.11064485\n",
      "  0.96719226 0.26047228 0.23785111 0.30749143 0.99183262 0.99264881\n",
      "  0.99122693 0.99525642 0.99482307 0.99574405 0.99806425 0.9988875\n",
      "  0.30758346 0.23023919 0.23038318 0.58377256 0.16318493 0.23639999\n",
      "  0.20006004 0.19814223 0.25401464 0.21198371]\n",
      " [0.12022218 0.09579308 0.12636883 0.12863911 0.13189321 0.29097378\n",
      "  0.87284034 0.22723814 0.22880401 0.87975978 0.99524964 0.98744661\n",
      "  0.99017778 0.99067251 0.99702291 0.9931835  0.99695783 0.99729471\n",
      "  0.89352317 0.23614107 0.23546919 0.35087087 0.31152089 0.16836657\n",
      "  0.16424427 0.1811337  0.17974307 0.19431878]\n",
      " [0.12455655 0.13950661 0.10859849 0.1414207  0.11591495 0.86710282\n",
      "  0.25322544 0.22535313 0.28145285 0.98487395 0.99316964 0.98964131\n",
      "  0.99407738 0.98732549 0.99679664 0.99160666 0.99787202 0.99537202\n",
      "  0.99449612 0.42676211 0.22649166 0.22197713 0.57743262 0.194355\n",
      "  0.18441426 0.18040103 0.17750922 0.19956691]\n",
      " [0.11436039 0.12097908 0.10040742 0.13028623 0.18410044 0.84017331\n",
      "  0.23079396 0.22900233 0.87526806 0.98967828 0.99398284 0.9888147\n",
      "  0.99254853 0.99462798 0.99524185 0.99172977 0.98975716 0.99442692\n",
      "  0.9955171  0.98094606 0.22563084 0.2343047  0.274773   0.48675443\n",
      "  0.21709063 0.18017603 0.20727279 0.20526972]\n",
      " [0.12554775 0.12718944 0.09821557 0.06915888 0.94766446 0.24989086\n",
      "  0.22102864 0.26532722 0.98327547 0.99355392 0.98921483 0.98607865\n",
      "  0.99632273 0.99749306 0.9955654  0.99938352 0.88972891 0.75386347\n",
      "  0.97084985 0.98747712 0.64971422 0.23401616 0.23382555 0.46830905\n",
      "  0.21461184 0.19315812 0.21407602 0.20132677]\n",
      " [0.11715148 0.10916609 0.1187926  0.2285271  0.91601952 0.23121519\n",
      "  0.22189094 0.80478637 0.99524606 0.9960582  0.14332759 0.23156232\n",
      "  0.92710472 0.99518781 0.99369218 0.69754756 0.07512248 0.06432515\n",
      "  0.48781161 0.98811128 0.9913978  0.26096072 0.22023804 0.22976365\n",
      "  0.55403493 0.25192186 0.27492376 0.22486045]\n",
      " [0.11526044 0.08238499 0.07890523 0.83764977 0.25731299 0.22477944\n",
      "  0.26618535 0.98410599 0.98922247 0.26477961 0.05697643 0.05996156\n",
      "  0.30192856 0.96254017 0.96880649 0.06151803 0.05895128 0.06377333\n",
      "  0.1141844  0.96843852 0.98869257 0.83108476 0.22112628 0.22081849\n",
      "  0.37565113 0.24709552 0.20456969 0.20688796]\n",
      " [0.11236535 0.08277252 0.15504353 0.90559928 0.22344403 0.21840961\n",
      "  0.80968659 0.98315275 0.98402885 0.05350608 0.05865758 0.07128401\n",
      "  0.07349934 0.04806278 0.04240182 0.05509841 0.07382306 0.14339153\n",
      "  0.3653178  0.98255422 0.98502985 0.97979113 0.35660367 0.22261813\n",
      "  0.22626493 0.58574923 0.21436306 0.20341448]\n",
      " [0.14079473 0.10391113 0.8876266  0.27116406 0.23097858 0.24606375\n",
      "  0.97720081 0.98704056 0.98767055 0.42017196 0.72751463 0.89988912\n",
      "  0.97570483 0.99201054 0.9858701  0.9930515  0.97950226 0.87540113\n",
      "  0.63371431 0.41288874 0.27204916 0.20573205 0.23660721 0.23279732\n",
      "  0.22959371 0.34082509 0.22087477 0.20551022]\n",
      " [0.14084598 0.12082418 0.94775494 0.22489768 0.2226749  0.68872593\n",
      "  0.94655029 0.83572949 0.67189878 0.46247777 0.33966508 0.27993605\n",
      "  0.24678046 0.22857353 0.23686729 0.2461609  0.25741094 0.22811944\n",
      "  0.22822659 0.22820835 0.23281016 0.23393352 0.24687113 0.23315686\n",
      "  0.22779718 0.53762036 0.18416382 0.190872  ]\n",
      " [0.11911074 0.3832837  0.21606603 0.21647213 0.22530346 0.21963906\n",
      "  0.21457955 0.22039617 0.23575966 0.22880709 0.23581199 0.2280052\n",
      "  0.24183938 0.2377929  0.23999512 0.23143041 0.21574982 0.21489705\n",
      "  0.19424815 0.21857333 0.21373149 0.26576058 0.38906496 0.66913462\n",
      "  0.80294282 0.2213153  0.20429207 0.2417473 ]\n",
      " [0.11308155 0.24841711 0.2136556  0.21208523 0.21858255 0.21311609\n",
      "  0.21367544 0.21739159 0.20902245 0.22321578 0.22870227 0.23903491\n",
      "  0.39277964 0.49061724 0.78048292 0.9080302  0.73517148 0.52851525\n",
      "  0.27878582 0.1683698  0.10260299 0.22532423 0.36379028 0.74824908\n",
      "  0.93290471 0.83312476 0.33214926 0.26035431]\n",
      " [0.12344783 0.07835322 0.23837501 0.26800891 0.47531081 0.70545371\n",
      "  0.75689263 0.52285368 0.35713864 0.15822008 0.14038214 0.08246192\n",
      "  0.20531054 0.40564545 0.74051292 0.87703251 0.89917754 0.62293213\n",
      "  0.38348556 0.24447192 0.22418476 0.1936184  0.19378688 0.20653663\n",
      "  0.20990045 0.21454492 0.37697053 0.26045292]\n",
      " [0.10626822 0.11566739 0.54457578 0.77197857 0.87995392 0.86270669\n",
      "  0.73319887 0.52350738 0.31979043 0.26015592 0.23067498 0.21473542\n",
      "  0.20518284 0.28406552 0.18602636 0.22552158 0.21437462 0.21000897\n",
      "  0.2059518  0.21415579 0.21515626 0.21322297 0.21386326 0.20962322\n",
      "  0.21801777 0.21074115 0.26676441 0.33422408]\n",
      " [0.50224427 0.74259682 0.18700712 0.19147151 0.18956829 0.20763259\n",
      "  0.66990293 0.95160337 0.96477362 0.7543478  0.19980046 0.39015681\n",
      "  0.98637206 0.94231331 0.96065642 0.203488   0.19962292 0.19727615\n",
      "  0.19325923 0.19978482 0.24899768 0.20965277 0.21397044 0.2029933\n",
      "  0.21328991 0.1961805  0.2650083  0.30369072]]\n"
     ]
    }
   ],
   "source": [
    "### ...and we convert images to gray-scale...\n",
    "images28 = skimage.color.rgb2gray(images28)\n",
    "print(images28.shape)\n",
    "print(images28[0][:][:])"
   ]
  },
  {
   "cell_type": "markdown",
   "metadata": {},
   "source": [
    "#### 2.- We build our deep learning model"
   ]
  },
  {
   "cell_type": "code",
   "execution_count": 61,
   "metadata": {},
   "outputs": [],
   "source": [
    "#imgs_input = [images28]\n",
    "#28*28\n",
    "\n",
    "### ...defining inputs...\n",
    "x = tf.placeholder(dtype = tf.float32, shape = [None, 28, 28])\n",
    "y = tf.placeholder(dtype = tf.int32, shape = [None])\n",
    "images_flat = tf.contrib.layers.flatten(x)\n",
    "\n",
    "### ...and a layer full connected...\n",
    "logits = tf.contrib.layers.fully_connected(images_flat, 62, tf.nn.relu)\n",
    "### ...a loss function...\n",
    "loss = tf.reduce_mean(tf.nn.sparse_softmax_cross_entropy_with_logits(labels = y, logits = logits))\n",
    "### ...an optimizer... \n",
    "train_op = tf.train.AdamOptimizer(learning_rate=0.001).minimize(loss)\n",
    "### ...convert logits to label indexes...\n",
    "correct_pred = tf.argmax(logits, 1)\n",
    "### ...define an accuracy metric...\n",
    "accuracy = tf.reduce_mean(tf.cast(correct_pred, tf.float32))"
   ]
  }
 ],
 "metadata": {
  "kernelspec": {
   "display_name": "Python 3",
   "language": "python",
   "name": "python3"
  },
  "language_info": {
   "codemirror_mode": {
    "name": "ipython",
    "version": 3
   },
   "file_extension": ".py",
   "mimetype": "text/x-python",
   "name": "python",
   "nbconvert_exporter": "python",
   "pygments_lexer": "ipython3",
   "version": "3.6.4"
  }
 },
 "nbformat": 4,
 "nbformat_minor": 2
}
