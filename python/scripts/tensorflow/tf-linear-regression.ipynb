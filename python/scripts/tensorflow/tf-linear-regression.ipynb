{
 "cells": [
  {
   "cell_type": "code",
   "execution_count": 1,
   "metadata": {},
   "outputs": [],
   "source": [
    "import tensorflow as tf\n",
    "import numpy as np\n",
    "import pandas as pd"
   ]
  },
  {
   "cell_type": "markdown",
   "metadata": {},
   "source": [
    "### Linear regression with tensorflow\n",
    "In that little project we review the tensorflow use. We going to use that framework to fit a sample of data (synthetical) to linear function (linear regression). "
   ]
  },
  {
   "cell_type": "code",
   "execution_count": 2,
   "metadata": {},
   "outputs": [],
   "source": [
    "# ...we generate the linear data, following the straight line f(x)=2x+1 ...\n",
    "def toGenerateData():\n",
    "    np.random.seed(9001)\n",
    "    \n",
    "    x_sample = np.random.rand(10).astype(np.float32)\n",
    "    y_sample = 2*x_sample + 1\n",
    "    \n",
    "    # ...and we load data in a pandas-dataframe\n",
    "    df_sample = pd.DataFrame(data = {'x': x_sample, 'y': y_sample}) \n",
    "    \n",
    "    return df_sample"
   ]
  },
  {
   "cell_type": "code",
   "execution_count": 14,
   "metadata": {},
   "outputs": [],
   "source": [
    "# ...we want to get the parameters that define the stright line (y=mx+n) that fit our sample of data...\n",
    "def toFitData(x, y):\n",
    "    #MODIFICATION: to introduce x,y as placeholders\n",
    "    \n",
    "    # ...we define tensorflow variables...\n",
    "    m = tf.Variable(tf.random_uniform([1], -1.0, 1.0))\n",
    "    n = tf.Variable(tf.zeros([1]))\n",
    "    y_calc = m*x + n\n",
    "\n",
    "    \n",
    "    # ...we define values for optimization...\n",
    "    objective_function = tf.reduce_mean( tf.square(y-y_calc) )\n",
    "    \n",
    "    # ...common mathematical operations also works...\n",
    "    #objective_function = tf.reduce_mean( (y-y_calc)**2 )\n",
    "    optimizer = tf.train.GradientDescentOptimizer(0.5)\n",
    "    trainer = optimizer.minimize(objective_function)\n",
    "    \n",
    "    \n",
    "    # ...we initialize all defined variables...\n",
    "    init_vars = tf.initialize_all_variables()\n",
    "    # ...and we launch the computing graph...\n",
    "    session_compute = tf.Session()\n",
    "    session_compute.run(init_vars)\n",
    "    \n",
    "    \n",
    "    for step in range(201):\n",
    "        session_compute.run(trainer)\n",
    "        if step % 20 == 0:\n",
    "            print(step, session_compute.run(m), session_compute.run(n))\n",
    "    "
   ]
  },
  {
   "cell_type": "code",
   "execution_count": 15,
   "metadata": {},
   "outputs": [
    {
     "name": "stdout",
     "output_type": "stream",
     "text": [
      "          x         y\n",
      "0  0.092204  1.184407\n",
      "1  0.850652  2.701304\n",
      "2  0.900750  2.801500\n",
      "3  0.593613  2.187226\n",
      "4  0.848753  2.697506\n",
      "5  0.133003  1.266005\n",
      "6  0.502096  2.004192\n",
      "7  0.767966  2.535931\n",
      "8  0.920470  2.840941\n",
      "9  0.475449  1.950897\n",
      "0 [1.5844264] [2.1431897]\n",
      "20 [1.7672902] [1.1507553]\n",
      "40 [1.9335034] [1.0430782]\n",
      "60 [1.9809986] [1.0123096]\n",
      "80 [1.9945704] [1.0035174]\n",
      "100 [1.9984485] [1.001005]\n",
      "120 [1.9995568] [1.000287]\n",
      "140 [1.9998734] [1.000082]\n",
      "160 [1.9999638] [1.0000235]\n",
      "180 [1.9999897] [1.0000067]\n",
      "200 [1.9999971] [1.0000018]\n"
     ]
    }
   ],
   "source": [
    "df_sample = toGenerateData()\n",
    "print(df_sample)\n",
    "\n",
    "# ...is needed numpy-array arguments for tensorflow works...\n",
    "toFitData(df_sample['x'].as_matrix(), df_sample['y'].as_matrix())\n"
   ]
  }
 ],
 "metadata": {
  "kernelspec": {
   "display_name": "Python 3",
   "language": "python",
   "name": "python3"
  },
  "language_info": {
   "codemirror_mode": {
    "name": "ipython",
    "version": 3
   },
   "file_extension": ".py",
   "mimetype": "text/x-python",
   "name": "python",
   "nbconvert_exporter": "python",
   "pygments_lexer": "ipython3",
   "version": "3.6.4"
  }
 },
 "nbformat": 4,
 "nbformat_minor": 2
}
