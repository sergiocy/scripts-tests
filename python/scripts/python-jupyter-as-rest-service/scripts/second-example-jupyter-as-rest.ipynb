{
 "cells": [
  {
   "cell_type": "code",
   "execution_count": 34,
   "metadata": {},
   "outputs": [],
   "source": [
    "import json\n",
    "import requests\n",
    "\n",
    "##########################\n",
    "# POST-REQUEST EXAMPLE:\n",
    "# ...the header...\n",
    "# {\n",
    "#    \"content-type\":\"application/json\"\n",
    "# }\n",
    "# ...the body...\n",
    "# {\n",
    "#    \"test1\":\"hola\"\n",
    "#    \"test2\":\"mundo\"\n",
    "# }\n",
    "##########################"
   ]
  },
  {
   "cell_type": "code",
   "execution_count": 40,
   "metadata": {},
   "outputs": [],
   "source": [
    "# POST /first\n",
    "\n",
    "# ...we recover the request...\n",
    "request = json.loads(REQUEST)\n",
    "\n",
    "# ...by default, we get the request in a variable \"body\"...\n",
    "# ...and we recover each variable in the body of JSON input...\n",
    "test_var1 = request['body'].get('test1')\n",
    "test_var2 = request['body'].get('test2')"
   ]
  },
  {
   "cell_type": "code",
   "execution_count": null,
   "metadata": {},
   "outputs": [],
   "source": [
    "# POST /first\n",
    "\n",
    "# ...we build and JSON response and we print it...\n",
    "print(json.dumps({\n",
    "    \"headers\" : {\n",
    "        \"Content-Type\" : \"application/json\"\n",
    "    },\n",
    "    \"status\" : 201,\n",
    "    \"res\" : {\n",
    "        \"test1\" : test_var1,\n",
    "        \"test2\" : test_var2\n",
    "    }\n",
    "}))"
   ]
  }
 ],
 "metadata": {
  "anaconda-cloud": {},
  "kernelspec": {
   "display_name": "Python [default]",
   "language": "python",
   "name": "python3"
  },
  "language_info": {
   "codemirror_mode": {
    "name": "ipython",
    "version": 3
   },
   "file_extension": ".py",
   "mimetype": "text/x-python",
   "name": "python",
   "nbconvert_exporter": "python",
   "pygments_lexer": "ipython3",
   "version": "3.5.4"
  }
 },
 "nbformat": 4,
 "nbformat_minor": 2
}
