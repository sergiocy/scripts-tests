{
 "cells": [
  {
   "cell_type": "markdown",
   "metadata": {},
   "source": [
    "### JOIN CSVS PANDAS"
   ]
  },
  {
   "cell_type": "code",
   "execution_count": 10,
   "metadata": {},
   "outputs": [],
   "source": [
    "import pandas as pd\n",
    "import json\n",
    "import requests\n",
    "\n",
    "##########################\n",
    "# POST-REQUEST EXAMPLE (from \"postman\"):\n",
    "# ...the header...\n",
    "# {\n",
    "#    \"content-type\":\"application/json\"\n",
    "# }\n",
    "# ...the body...\n",
    "# {\n",
    "#{\n",
    "#\t\"file1\" : {\n",
    "#\t\t\"path\":\"./data1.csv\",\n",
    "#\t\t\"sep\":\",\",\n",
    "#\t\t\"enc\":\"utf-8\"\n",
    "#\t},\n",
    "#\t\"file2\" : {\n",
    "#\t\t\"path\":\"./data2.csv\",\n",
    "#\t\t\"sep\":\",\",\n",
    "#\t\t\"enc\":\"utf-8\"\n",
    "#\t}\n",
    "#}\n",
    "# }\n",
    "##########################"
   ]
  },
  {
   "cell_type": "code",
   "execution_count": 11,
   "metadata": {},
   "outputs": [],
   "source": [
    "# POST /join\n",
    "\n",
    "# ...we put the files in the same folder that notebook...\n",
    "# ...in this way, the (relative) path is the file name...\n",
    "\n",
    "# ...variable REQUEST defined to test the next code...\n",
    "#REQUEST = json.dumps({\n",
    "#    'body': {\n",
    "#        \"file1\" : {\n",
    "#            \"path\":\"./data1.csv\",\n",
    "#            \"sep\":\",\",\n",
    "#            \"enc\":\"utf-8\"\n",
    "#        },\n",
    "#        \"file2\" : {\n",
    "#            \"path\":\"./data2.csv\",\n",
    "#            \"sep\":\",\",\n",
    "#            \"enc\":\"utf-8\"\n",
    "#        }\n",
    "#    }\n",
    "#})\n",
    "\n",
    "\n",
    "# ...we recover the file paths in the request...\n",
    "request = json.loads(REQUEST)\n",
    "body = request['body']\n",
    "\n",
    "path1 = body.get('file1').get('path')\n",
    "sep1 = body.get('file1').get('sep')\n",
    "enc1 = body.get('file1').get('enc')\n",
    "path2 = body.get('file2').get('path')\n",
    "sep2 = body.get('file2').get('sep')\n",
    "enc2 = body.get('file2').get('enc')"
   ]
  },
  {
   "cell_type": "code",
   "execution_count": 12,
   "metadata": {},
   "outputs": [],
   "source": [
    "# POST /join\n",
    "\n",
    "# WE READ CSVS AND LOAD IN PANDAS\n",
    "df_l = pd.read_csv(path1, sep=sep1, encoding=enc1)\n",
    "df_r = pd.read_csv(path2, sep=sep2, encoding=enc2)\n",
    "\n",
    "df_join = pd.merge(df_l, df_r, how='inner')"
   ]
  },
  {
   "cell_type": "code",
   "execution_count": 13,
   "metadata": {},
   "outputs": [
    {
     "name": "stdout",
     "output_type": "stream",
     "text": [
      "{\"result\": \"{\\\"id\\\":{\\\"0\\\":1,\\\"1\\\":2},\\\"surname\\\":{\\\"0\\\":\\\"surname1\\\",\\\"1\\\":\\\"surname2\\\"},\\\"name\\\":{\\\"0\\\":\\\"name1\\\",\\\"1\\\":\\\"name2\\\"},\\\"age\\\":{\\\"0\\\":\\\"24\\\",\\\"1\\\":\\\"36\\\"}}\"}\n"
     ]
    }
   ],
   "source": [
    "# POST /join\n",
    "\n",
    "# ...we build and JSON response and we print it...\n",
    "print(json.dumps({\n",
    "        \"result\" : df_join.to_json()  \n",
    "        #df_join.to_json()    \n",
    "}))\n",
    "\n",
    "# ...we generate a csv with result...\n",
    "df_join.to_csv('join.csv', encoding=\"utf-8\")"
   ]
  }
 ],
 "metadata": {
  "anaconda-cloud": {},
  "kernelspec": {
   "display_name": "Python [default]",
   "language": "python",
   "name": "python3"
  },
  "language_info": {
   "codemirror_mode": {
    "name": "ipython",
    "version": 3
   },
   "file_extension": ".py",
   "mimetype": "text/x-python",
   "name": "python",
   "nbconvert_exporter": "python",
   "pygments_lexer": "ipython3",
   "version": "3.5.4"
  }
 },
 "nbformat": 4,
 "nbformat_minor": 1
}
